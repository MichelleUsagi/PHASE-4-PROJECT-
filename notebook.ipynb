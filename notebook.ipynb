{
 "cells": [
  {
   "cell_type": "markdown",
   "metadata": {},
   "source": [
    "# <u><strong>SUICIDAL IDEATION DETECTION</strong></u>\n"
   ]
  },
  {
   "cell_type": "markdown",
   "metadata": {},
   "source": [
    "## <u>Problem Statement</u>\n"
   ]
  },
  {
   "cell_type": "markdown",
   "metadata": {},
   "source": [
    "Mental health issues like depression are increasing globally, especially among the youth. Many individuals share symptoms or feelings in anonymous online forums before seeking help. This project will use Natural Language Processing (NLP) on Reddit posts to identify potential signs of\n",
    "depression, allowing for early intervention and improved healthcare response."
   ]
  },
  {
   "cell_type": "markdown",
   "metadata": {},
   "source": [
    "## <u>Stakeholders</u>"
   ]
  },
  {
   "cell_type": "markdown",
   "metadata": {},
   "source": [
    "- Mental health professionals\n",
    "- NGOs focused on mental health\n",
    "- Public health policymakers \n",
    "- Digital mental health platforms."
   ]
  },
  {
   "cell_type": "markdown",
   "metadata": {},
   "source": [
    "## <u>Ethical Considerations</u>\n"
   ]
  },
  {
   "cell_type": "markdown",
   "metadata": {},
   "source": [
    "- ### Privacy and Consent\n",
    "Reddit posts are publicly accessible, but users may not expect them to be used for mental health analysis.\n",
    "\n",
    "No personally identifiable information (PII), usernames, or post IDs are stored or referenced.\n",
    "\n",
    "Data is anonymized and handled in strict compliance with [Reddit Terms of Service](https://www.redditinc.com/policies/data-api-terms)\n",
    "\n",
    "- ### Psychological Safety\n",
    "The model is designed for academic exploration and public health awareness—not for clinical decision-making.\n",
    "\n",
    "No automatic interventions are triggered based on model predictions.\n",
    "\n",
    "Results are interpreted with caution to avoid misclassifying vulnerable individuals.\n",
    "- ### Bias and Fairness\n",
    "NLP models may underrepresent or misinterpret signals from marginalized communities.\n",
    "\n",
    "Fairness metrics and feature attribution techniques (e.g SHAP) are employed to ensure model decisions aren’t driven by irrelevant demographic indicators.\n",
    "\n",
    "Continuous auditing for linguistic bias is recommended.\n",
    "- ### Transparency and Interpretability\n",
    "The full model pipeline—from preprocessing to predictions—is documented.\n",
    "\n",
    "- ### Human Oversight\n",
    "\n",
    "This tool is not a diagnostic system; human judgment remains central.\n",
    "\n",
    "Suggestions for high-risk content are intended to augment, not replace, mental health professionals.\n",
    "\n",
    "- ### Use and Dissemination\n",
    "\n",
    "The notebook is published with disclaimers clarifying its scope: research and educational use only.\n",
    "\n",
    "Any downstream applications must be evaluated through an ethical review process.\n",
    "\n",
    "Collaboration with mental health experts and community moderators is encouraged for real-world impact.\n"
   ]
  },
  {
   "cell_type": "markdown",
   "metadata": {},
   "source": [
    "## <u>Project Objectives</u>\n"
   ]
  },
  {
   "cell_type": "markdown",
   "metadata": {},
   "source": [
    "\n",
    "- Use NLP to classify Reddit posts as depression-related or not\n",
    "\n",
    "- Apply interpretable models to understand which words/phrases contribute to depression\n",
    "predictions.\n",
    "\n",
    "- Evaluate model performance using precision, recall, F1-score, and ROC-AUC, with stratified validation to handle potential class imbalance.\n",
    "\n",
    "- Provide recommendations for how health organizations can use the model for early warning system"
   ]
  },
  {
   "cell_type": "markdown",
   "metadata": {},
   "source": [
    "## <u> Data Understanding</u>\n"
   ]
  },
  {
   "cell_type": "code",
   "execution_count": 1,
   "metadata": {},
   "outputs": [
    {
     "name": "stderr",
     "output_type": "stream",
     "text": [
      "[nltk_data] Downloading package punkt to\n",
      "[nltk_data]     C:\\Users\\hp\\AppData\\Roaming\\nltk_data...\n",
      "[nltk_data]   Package punkt is already up-to-date!\n",
      "[nltk_data] Downloading package stopwords to\n",
      "[nltk_data]     C:\\Users\\hp\\AppData\\Roaming\\nltk_data...\n",
      "[nltk_data]   Package stopwords is already up-to-date!\n",
      "[nltk_data] Downloading package wordnet to\n",
      "[nltk_data]     C:\\Users\\hp\\AppData\\Roaming\\nltk_data...\n",
      "[nltk_data]   Package wordnet is already up-to-date!\n"
     ]
    }
   ],
   "source": [
    "# Data handling\n",
    "import pandas as pd\n",
    "import numpy as np\n",
    "\n",
    "# Visualization\n",
    "import matplotlib.pyplot as plt\n",
    "import seaborn as sns\n",
    "\n",
    "# NLP\n",
    "import re\n",
    "import itertools\n",
    "import nltk\n",
    "from nltk.corpus import stopwords\n",
    "from nltk.tokenize import word_tokenize\n",
    "from nltk.stem import WordNetLemmatizer\n",
    "from nltk.sentiment.vader import SentimentIntensityAnalyzer\n",
    "from nltk.tokenize import RegexpTokenizer\n",
    "\n",
    "nltk.download('punkt')\n",
    "nltk.download('stopwords')\n",
    "nltk.download('wordnet')\n",
    "\n",
    "# Feature extraction\n",
    "from collections import Counter\n",
    "from sklearn.feature_extraction.text import CountVectorizer, TfidfVectorizer\n",
    "from sklearn.decomposition import TruncatedSVD\n",
    "\n",
    "# Preprocessing\n",
    "from sklearn.preprocessing import LabelEncoder\n",
    "\n",
    "# Models\n",
    "from sklearn.linear_model import LogisticRegression\n",
    "from sklearn.ensemble import RandomForestClassifier\n",
    "from sklearn.svm import LinearSVC\n",
    "\n",
    "# Evaluation\n",
    "from sklearn.metrics import classification_report, confusion_matrix, ConfusionMatrixDisplay, roc_auc_score, roc_curve\n",
    "\n",
    "# Training\n",
    "from sklearn.model_selection import train_test_split, GridSearchCV\n",
    "from sklearn.pipeline import Pipeline\n",
    "\n",
    "# Utilities\n",
    "from scipy.sparse import hstack\n",
    "\n",
    "# Standard libraries\n",
    "import warnings\n",
    "from empath import Empath"
   ]
  },
  {
   "cell_type": "code",
   "execution_count": 2,
   "metadata": {},
   "outputs": [
    {
     "data": {
      "text/html": [
       "<div>\n",
       "<style scoped>\n",
       "    .dataframe tbody tr th:only-of-type {\n",
       "        vertical-align: middle;\n",
       "    }\n",
       "\n",
       "    .dataframe tbody tr th {\n",
       "        vertical-align: top;\n",
       "    }\n",
       "\n",
       "    .dataframe thead th {\n",
       "        text-align: right;\n",
       "    }\n",
       "</style>\n",
       "<table border=\"1\" class=\"dataframe\">\n",
       "  <thead>\n",
       "    <tr style=\"text-align: right;\">\n",
       "      <th></th>\n",
       "      <th>Unnamed: 0</th>\n",
       "      <th>text</th>\n",
       "      <th>class</th>\n",
       "    </tr>\n",
       "  </thead>\n",
       "  <tbody>\n",
       "    <tr>\n",
       "      <th>0</th>\n",
       "      <td>2</td>\n",
       "      <td>Ex Wife Threatening SuicideRecently I left my ...</td>\n",
       "      <td>suicide</td>\n",
       "    </tr>\n",
       "    <tr>\n",
       "      <th>1</th>\n",
       "      <td>3</td>\n",
       "      <td>Am I weird I don't get affected by compliments...</td>\n",
       "      <td>non-suicide</td>\n",
       "    </tr>\n",
       "    <tr>\n",
       "      <th>2</th>\n",
       "      <td>4</td>\n",
       "      <td>Finally 2020 is almost over... So I can never ...</td>\n",
       "      <td>non-suicide</td>\n",
       "    </tr>\n",
       "    <tr>\n",
       "      <th>3</th>\n",
       "      <td>8</td>\n",
       "      <td>i need helpjust help me im crying so hard</td>\n",
       "      <td>suicide</td>\n",
       "    </tr>\n",
       "    <tr>\n",
       "      <th>4</th>\n",
       "      <td>9</td>\n",
       "      <td>I’m so lostHello, my name is Adam (16) and I’v...</td>\n",
       "      <td>suicide</td>\n",
       "    </tr>\n",
       "  </tbody>\n",
       "</table>\n",
       "</div>"
      ],
      "text/plain": [
       "   Unnamed: 0                                               text        class\n",
       "0           2  Ex Wife Threatening SuicideRecently I left my ...      suicide\n",
       "1           3  Am I weird I don't get affected by compliments...  non-suicide\n",
       "2           4  Finally 2020 is almost over... So I can never ...  non-suicide\n",
       "3           8          i need helpjust help me im crying so hard      suicide\n",
       "4           9  I’m so lostHello, my name is Adam (16) and I’v...      suicide"
      ]
     },
     "execution_count": 2,
     "metadata": {},
     "output_type": "execute_result"
    }
   ],
   "source": [
    "# loading data into dataframe\n",
    "df = pd.read_csv('Suicide_Detection.csv')\n",
    "df.head()"
   ]
  },
  {
   "cell_type": "code",
   "execution_count": 3,
   "metadata": {},
   "outputs": [
    {
     "data": {
      "text/plain": [
       "(232074, 3)"
      ]
     },
     "execution_count": 3,
     "metadata": {},
     "output_type": "execute_result"
    }
   ],
   "source": [
    "# shape of df\n",
    "\n",
    "df.shape"
   ]
  },
  {
   "cell_type": "code",
   "execution_count": 4,
   "metadata": {},
   "outputs": [
    {
     "name": "stdout",
     "output_type": "stream",
     "text": [
      "<class 'pandas.core.frame.DataFrame'>\n",
      "RangeIndex: 232074 entries, 0 to 232073\n",
      "Data columns (total 3 columns):\n",
      " #   Column      Non-Null Count   Dtype \n",
      "---  ------      --------------   ----- \n",
      " 0   Unnamed: 0  232074 non-null  int64 \n",
      " 1   text        232074 non-null  object\n",
      " 2   class       232074 non-null  object\n",
      "dtypes: int64(1), object(2)\n",
      "memory usage: 5.3+ MB\n"
     ]
    }
   ],
   "source": [
    "# Information about the dataset\n",
    "df.info()"
   ]
  },
  {
   "cell_type": "code",
   "execution_count": 5,
   "metadata": {},
   "outputs": [
    {
     "data": {
      "text/plain": [
       "array(['suicide', 'non-suicide'], dtype=object)"
      ]
     },
     "execution_count": 5,
     "metadata": {},
     "output_type": "execute_result"
    }
   ],
   "source": [
    "#show distribution of the target variable\n",
    "df['class'].value_counts().index.values"
   ]
  },
  {
   "cell_type": "code",
   "execution_count": 6,
   "metadata": {},
   "outputs": [
    {
     "data": {
      "text/plain": [
       "class\n",
       "suicide        116037\n",
       "non-suicide    116037\n",
       "Name: count, dtype: int64"
      ]
     },
     "execution_count": 6,
     "metadata": {},
     "output_type": "execute_result"
    }
   ],
   "source": [
    "# count of each class \n",
    "df['class'].value_counts()"
   ]
  },
  {
   "cell_type": "code",
   "execution_count": 7,
   "metadata": {},
   "outputs": [
    {
     "data": {
      "image/png": "[encoded data removed]",
      "text/plain": [
       "<Figure size 640x480 with 1 Axes>"
      ]
     },
     "metadata": {},
     "output_type": "display_data"
    }
   ],
   "source": [
    "# Class Distribution(Suicidal vs non-suicidal)\n",
    "df['class'].value_counts().plot(kind='bar', color=['black', 'skyblue'])\n",
    "plt.title('Class Distribution')\n",
    "plt.xlabel('Class')\n",
    "plt.ylabel('Count')\n",
    "plt.xticks(rotation=0)\n",
    "plt.show()"
   ]
  },
  {
   "cell_type": "markdown",
   "metadata": {},
   "source": [
    "Dataset used was sourced from kaggle, which was then loaded into a pandas dataframe. The dataset contains 232,074 entries and 3 columns. The columns include text , the reddit post content, and class which is the target variable that is either 'suicide' or 'non-suicide'. The dataset is perfectly balanced with 116, 037 entries for both 'suicide' and 'non-suicide' classes. This will prevent the model from being biased towards the mojority class."
   ]
  },
  {
   "cell_type": "markdown",
   "metadata": {},
   "source": [
    "### <u> DATA CLEANING</u>\n",
    "\n",
    "This step prepares the raw text data for modeling. We'll clean the text, tokenize it, remove stopwords, lemmatize the tokens, and convert the text into numerical features using TF-IDF.\n"
   ]
  },
  {
   "cell_type": "code",
   "execution_count": 8,
   "metadata": {},
   "outputs": [],
   "source": [
    "#Drop the unnecessary index column\n",
    "df.drop(columns=[\"Unnamed: 0\"], inplace=True)"
   ]
  },
  {
   "cell_type": "code",
   "execution_count": 9,
   "metadata": {},
   "outputs": [],
   "source": [
    "#Remove duplicates\n",
    "df.drop_duplicates(subset='text', inplace=True)"
   ]
  },
  {
   "cell_type": "code",
   "execution_count": 10,
   "metadata": {},
   "outputs": [
    {
     "name": "stdout",
     "output_type": "stream",
     "text": [
      "text     0\n",
      "class    0\n",
      "dtype: int64\n"
     ]
    }
   ],
   "source": [
    "# Check for null values in each column\n",
    "print(df.isnull().sum())"
   ]
  },
  {
   "cell_type": "code",
   "execution_count": 11,
   "metadata": {},
   "outputs": [],
   "source": [
    "# Take a sample of 1000 rows for cleaning\n",
    "sample_df = df.sample(n=1000, random_state=42).copy()"
   ]
  },
  {
   "cell_type": "code",
   "execution_count": 12,
   "metadata": {},
   "outputs": [
    {
     "data": {
      "text/html": [
       "<div>\n",
       "<style scoped>\n",
       "    .dataframe tbody tr th:only-of-type {\n",
       "        vertical-align: middle;\n",
       "    }\n",
       "\n",
       "    .dataframe tbody tr th {\n",
       "        vertical-align: top;\n",
       "    }\n",
       "\n",
       "    .dataframe thead th {\n",
       "        text-align: right;\n",
       "    }\n",
       "</style>\n",
       "<table border=\"1\" class=\"dataframe\">\n",
       "  <thead>\n",
       "    <tr style=\"text-align: right;\">\n",
       "      <th></th>\n",
       "      <th>text</th>\n",
       "      <th>class</th>\n",
       "      <th>cleaned</th>\n",
       "    </tr>\n",
       "  </thead>\n",
       "  <tbody>\n",
       "    <tr>\n",
       "      <th>74414</th>\n",
       "      <td>I Don't know?7? Months self harm free and the ...</td>\n",
       "      <td>suicide</td>\n",
       "      <td>I Don't know?7? Months self harm free and the ...</td>\n",
       "    </tr>\n",
       "    <tr>\n",
       "      <th>149516</th>\n",
       "      <td>I HAVE TO START BECOMING RICH I HAVE TO START ...</td>\n",
       "      <td>non-suicide</td>\n",
       "      <td>I HAVE TO START BECOMING RICH I HAVE TO START ...</td>\n",
       "    </tr>\n",
       "    <tr>\n",
       "      <th>12484</th>\n",
       "      <td>A poem (haiku) for u/Me-Game-Dev hi, hello hel...</td>\n",
       "      <td>non-suicide</td>\n",
       "      <td>A poem (haiku) for u/Me-Game-Dev hi, hello hel...</td>\n",
       "    </tr>\n",
       "    <tr>\n",
       "      <th>14043</th>\n",
       "      <td>I've honestly got no idea what to do anymore.I...</td>\n",
       "      <td>suicide</td>\n",
       "      <td>I've honestly got no idea what to do anymore.I...</td>\n",
       "    </tr>\n",
       "    <tr>\n",
       "      <th>30673</th>\n",
       "      <td>Do you ever just cry? Like you just think abou...</td>\n",
       "      <td>non-suicide</td>\n",
       "      <td>Do you ever just cry? Like you just think abou...</td>\n",
       "    </tr>\n",
       "  </tbody>\n",
       "</table>\n",
       "</div>"
      ],
      "text/plain": [
       "                                                     text        class  \\\n",
       "74414   I Don't know?7? Months self harm free and the ...      suicide   \n",
       "149516  I HAVE TO START BECOMING RICH I HAVE TO START ...  non-suicide   \n",
       "12484   A poem (haiku) for u/Me-Game-Dev hi, hello hel...  non-suicide   \n",
       "14043   I've honestly got no idea what to do anymore.I...      suicide   \n",
       "30673   Do you ever just cry? Like you just think abou...  non-suicide   \n",
       "\n",
       "                                                  cleaned  \n",
       "74414   I Don't know?7? Months self harm free and the ...  \n",
       "149516  I HAVE TO START BECOMING RICH I HAVE TO START ...  \n",
       "12484   A poem (haiku) for u/Me-Game-Dev hi, hello hel...  \n",
       "14043   I've honestly got no idea what to do anymore.I...  \n",
       "30673   Do you ever just cry? Like you just think abou...  "
      ]
     },
     "execution_count": 12,
     "metadata": {},
     "output_type": "execute_result"
    }
   ],
   "source": [
    "# Work with the 'text' column and create a cleaned version\n",
    "sample_df['cleaned'] = sample_df['text']  # assuming 'text' is the right column\n",
    "sample_df.head(5)"
   ]
  },
  {
   "cell_type": "code",
   "execution_count": 13,
   "metadata": {},
   "outputs": [
    {
     "data": {
      "text/plain": [
       "23"
      ]
     },
     "execution_count": 13,
     "metadata": {},
     "output_type": "execute_result"
    }
   ],
   "source": [
    "# Check which posts contain URLs\n",
    "sample_df['has_url'] = sample_df['text'].str.contains(r'http\\S+|www\\S+|https\\S+', regex=True)\n",
    "\n",
    "# Count how many contain URLs\n",
    "url_count = sample_df['has_url'].sum()\n",
    "url_count"
   ]
  },
  {
   "cell_type": "code",
   "execution_count": 14,
   "metadata": {},
   "outputs": [
    {
     "data": {
      "text/plain": [
       "325"
      ]
     },
     "execution_count": 14,
     "metadata": {},
     "output_type": "execute_result"
    }
   ],
   "source": [
    "# Function to detect emojis or non-ASCII characters\n",
    "def contains_emoji(text):\n",
    "    return any(ord(char) > 127 for char in text)\n",
    "\n",
    "sample_df['has_emoji'] = sample_df['text'].apply(contains_emoji)\n",
    "\n",
    "# Count how many contain emojis\n",
    "emoji_count = sample_df['has_emoji'].sum()\n",
    "emoji_count"
   ]
  },
  {
   "cell_type": "code",
   "execution_count": 15,
   "metadata": {},
   "outputs": [
    {
     "data": {
      "text/plain": [
       "31"
      ]
     },
     "execution_count": 15,
     "metadata": {},
     "output_type": "execute_result"
    }
   ],
   "source": [
    "# Check for posts that contain r/ or u/\n",
    "sample_df['has_reddit_mention'] = sample_df['text'].str.contains(r'\\bu/\\w+|\\br/\\w+', regex=True)\n",
    "\n",
    "# Count how many\n",
    "mention_count = sample_df['has_reddit_mention'].sum()\n",
    "mention_count "
   ]
  },
  {
   "cell_type": "markdown",
   "metadata": {},
   "source": [
    "### <u>DATA PRE-PROCESSING</u>\n"
   ]
  },
  {
   "cell_type": "markdown",
   "metadata": {},
   "source": [
    "### **Objective 1:**\n",
    "Use NLP to classify Reddit posts as depression-related or not\n"
   ]
  },
  {
   "cell_type": "code",
   "execution_count": 16,
   "metadata": {},
   "outputs": [
    {
     "name": "stderr",
     "output_type": "stream",
     "text": [
      "[nltk_data] Downloading package stopwords to\n",
      "[nltk_data]     C:\\Users\\hp\\AppData\\Roaming\\nltk_data...\n",
      "[nltk_data]   Package stopwords is already up-to-date!\n"
     ]
    }
   ],
   "source": [
    "# Download NLTK stopwords\n",
    "nltk.download('stopwords')\n",
    "stop_words = set(stopwords.words('english'))"
   ]
  },
  {
   "cell_type": "code",
   "execution_count": 17,
   "metadata": {},
   "outputs": [],
   "source": [
    "class TextPreprocessingPipeline:\n",
    "    def __init__(self, text_col='text'):\n",
    "        self.text_col = text_col\n",
    "        self.stop_words = set(stopwords.words('english'))\n",
    "        self.lemmatizer = WordNetLemmatizer()\n",
    "        self.token_pattern = r\"[a-zA-Z]+(?:'[a-z]+)?\"\n",
    "        self.tokenizer = RegexpTokenizer(self.token_pattern)\n",
    "\n",
    "    def expand_contractions(self, text):\n",
    "        contractions = {\n",
    "            \"can't\": \"can not\", \"won't\": \"will not\", \"n't\": \" not\",\n",
    "            \"'re\": \" are\", \"'s\": \" is\", \"'m\": \" am\",\n",
    "            \"'ll\": \" will\", \"'ve\": \" have\", \"'d\": \" would\"\n",
    "        }\n",
    "        for contraction, expanded in contractions.items():\n",
    "            text = re.sub(contraction, expanded, text)\n",
    "        return text\n",
    "\n",
    "    def clean_text(self, df):\n",
    "        df = df.copy()\n",
    "        col = self.text_col\n",
    "\n",
    "        df['clean_text'] = (\n",
    "            df[col].str.lower()\n",
    "                   .apply(self.expand_contractions)\n",
    "                   .str.replace(r\"[^\\w\\s']\", \"\", regex=True)  # Keep apostrophes\n",
    "                   .apply(lambda x: re.sub(r\"\\s+\", \" \", x).strip())\n",
    "        )\n",
    "\n",
    "        # Remove stopwords after cleaning\n",
    "        df['clean_text'] = df['clean_text'].apply(lambda text: ' '.join([\n",
    "            word for word in text.split() if word not in self.stop_words\n",
    "        ]))\n",
    "\n",
    "        # Filter out empty rows\n",
    "        df = df[df['clean_text'].str.strip().str.len() > 0]\n",
    "        return df\n",
    "\n",
    "    def tokenize(self, df):\n",
    "        # Tokenize and lemmatize\n",
    "        df['tokens'] = df['clean_text'].apply(lambda text: [\n",
    "            self.lemmatizer.lemmatize(token)\n",
    "            for token in self.tokenizer.tokenize(text)\n",
    "        ])\n",
    "        return df\n",
    "\n",
    "    def run(self, df):\n",
    "        df = self.clean_text(df)\n",
    "        df = self.tokenize(df)\n",
    "        return df\n"
   ]
  },
  {
   "cell_type": "code",
   "execution_count": 18,
   "metadata": {},
   "outputs": [
    {
     "data": {
      "text/html": [
       "<div>\n",
       "<style scoped>\n",
       "    .dataframe tbody tr th:only-of-type {\n",
       "        vertical-align: middle;\n",
       "    }\n",
       "\n",
       "    .dataframe tbody tr th {\n",
       "        vertical-align: top;\n",
       "    }\n",
       "\n",
       "    .dataframe thead th {\n",
       "        text-align: right;\n",
       "    }\n",
       "</style>\n",
       "<table border=\"1\" class=\"dataframe\">\n",
       "  <thead>\n",
       "    <tr style=\"text-align: right;\">\n",
       "      <th></th>\n",
       "      <th>clean_text</th>\n",
       "      <th>tokens</th>\n",
       "    </tr>\n",
       "  </thead>\n",
       "  <tbody>\n",
       "    <tr>\n",
       "      <th>74414</th>\n",
       "      <td>know7 months self harm free urge gets stronger...</td>\n",
       "      <td>[know, month, self, harm, free, urge, get, str...</td>\n",
       "    </tr>\n",
       "    <tr>\n",
       "      <th>149516</th>\n",
       "      <td>start becoming rich start company become 16 af...</td>\n",
       "      <td>[start, becoming, rich, start, company, become...</td>\n",
       "    </tr>\n",
       "    <tr>\n",
       "      <th>12484</th>\n",
       "      <td>poem haiku umegamedev hi hello hello stop fuck...</td>\n",
       "      <td>[poem, haiku, umegamedev, hi, hello, hello, st...</td>\n",
       "    </tr>\n",
       "  </tbody>\n",
       "</table>\n",
       "</div>"
      ],
      "text/plain": [
       "                                               clean_text  \\\n",
       "74414   know7 months self harm free urge gets stronger...   \n",
       "149516  start becoming rich start company become 16 af...   \n",
       "12484   poem haiku umegamedev hi hello hello stop fuck...   \n",
       "\n",
       "                                                   tokens  \n",
       "74414   [know, month, self, harm, free, urge, get, str...  \n",
       "149516  [start, becoming, rich, start, company, become...  \n",
       "12484   [poem, haiku, umegamedev, hi, hello, hello, st...  "
      ]
     },
     "execution_count": 18,
     "metadata": {},
     "output_type": "execute_result"
    }
   ],
   "source": [
    "preprocessor = TextPreprocessingPipeline(text_col='text')\n",
    "df_processed = preprocessor.run(sample_df)\n",
    "# Check before/after stopword removal and lemmatization\n",
    "df_processed[['clean_text', 'tokens']].head(3)\n"
   ]
  },
  {
   "cell_type": "code",
   "execution_count": 19,
   "metadata": {},
   "outputs": [
    {
     "data": {
      "text/html": [
       "<div>\n",
       "<style scoped>\n",
       "    .dataframe tbody tr th:only-of-type {\n",
       "        vertical-align: middle;\n",
       "    }\n",
       "\n",
       "    .dataframe tbody tr th {\n",
       "        vertical-align: top;\n",
       "    }\n",
       "\n",
       "    .dataframe thead th {\n",
       "        text-align: right;\n",
       "    }\n",
       "</style>\n",
       "<table border=\"1\" class=\"dataframe\">\n",
       "  <thead>\n",
       "    <tr style=\"text-align: right;\">\n",
       "      <th></th>\n",
       "      <th>clean_text</th>\n",
       "      <th>tokens</th>\n",
       "    </tr>\n",
       "  </thead>\n",
       "  <tbody>\n",
       "    <tr>\n",
       "      <th>0</th>\n",
       "      <td>ex wife threatening suiciderecently left wife ...</td>\n",
       "      <td>[ex, wife, threatening, suiciderecently, left,...</td>\n",
       "    </tr>\n",
       "    <tr>\n",
       "      <th>1</th>\n",
       "      <td>weird get affected compliments coming someone ...</td>\n",
       "      <td>[weird, get, affected, compliment, coming, som...</td>\n",
       "    </tr>\n",
       "    <tr>\n",
       "      <th>2</th>\n",
       "      <td>finally 2020 almost never hear 2020 bad year e...</td>\n",
       "      <td>[finally, almost, never, hear, bad, year, ever...</td>\n",
       "    </tr>\n",
       "  </tbody>\n",
       "</table>\n",
       "</div>"
      ],
      "text/plain": [
       "                                          clean_text  \\\n",
       "0  ex wife threatening suiciderecently left wife ...   \n",
       "1  weird get affected compliments coming someone ...   \n",
       "2  finally 2020 almost never hear 2020 bad year e...   \n",
       "\n",
       "                                              tokens  \n",
       "0  [ex, wife, threatening, suiciderecently, left,...  \n",
       "1  [weird, get, affected, compliment, coming, som...  \n",
       "2  [finally, almost, never, hear, bad, year, ever...  "
      ]
     },
     "execution_count": 19,
     "metadata": {},
     "output_type": "execute_result"
    }
   ],
   "source": [
    "preprocessor = TextPreprocessingPipeline(text_col='text')\n",
    "df = preprocessor.run(df)  # replaces df with the cleaned version\n",
    "# Check before/after stopword removal and lemmatization\n",
    "df[['clean_text', 'tokens']].head(3)\n"
   ]
  },
  {
   "cell_type": "code",
   "execution_count": 20,
   "metadata": {},
   "outputs": [],
   "source": [
    "# Encode target labels\n",
    "label_encoder = LabelEncoder()\n",
    "df['label'] = label_encoder.fit_transform(df['class'])"
   ]
  },
  {
   "cell_type": "markdown",
   "metadata": {},
   "source": [
    "## <u>Exploratory Text Analysis</u>\n",
    "\n",
    "\n",
    "We explore word frequencies, word clouds, and emotional keyword patterns to better understand how suicidal and non-suicidal posts differ.\n"
   ]
  },
  {
   "cell_type": "markdown",
   "metadata": {},
   "source": [
    "- #### Most Frequent Words (excluding stopwords"
   ]
  },
  {
   "cell_type": "code",
   "execution_count": 21,
   "metadata": {},
   "outputs": [
    {
     "data": {
      "image/png": "[encoded data removed]",
      "text/plain": [
       "<Figure size 1200x600 with 1 Axes>"
      ]
     },
     "metadata": {},
     "output_type": "display_data"
    }
   ],
   "source": [
    "# Flatten token list and count word frequencies\n",
    "filtered_tokens = [word for tokens in df['tokens'] for word in tokens]# Count word frequency\n",
    "word_counts = Counter(filtered_tokens)\n",
    "top_words = word_counts.most_common(50)\n",
    "\n",
    "# Bar chart of top 20\n",
    "words, counts = zip(*top_words[:20])\n",
    "plt.figure(figsize=(12, 6))\n",
    "plt.bar(words, counts, color='skyblue')\n",
    "plt.xticks(rotation=45)\n",
    "plt.title(\"Top 20 Most Frequent Words (excluding stopwords)\")\n",
    "plt.xlabel(\"Words\")\n",
    "plt.ylabel(\"Frequency\")\n",
    "plt.tight_layout()\n",
    "plt.show()"
   ]
  },
  {
   "cell_type": "markdown",
   "metadata": {},
   "source": [
    "The bar chart shows the top 20 most frequent words in your dataset. Examples include:\n",
    "\n",
    "- Emotional verbs: feel, want, need, know, think\n",
    "\n",
    "- Personal pronouns and reflection words: like, people, life, time, day, back\n",
    "\n",
    "- Suggestive terms tied to inner struggle: even, thing, make, get, really"
   ]
  },
  {
   "cell_type": "markdown",
   "metadata": {},
   "source": [
    "- ### Emotional Keyword Frequency by Class"
   ]
  },
  {
   "cell_type": "code",
   "execution_count": 22,
   "metadata": {},
   "outputs": [
    {
     "data": {
      "image/png": "[encoded data removed]",
      "text/plain": [
       "<Figure size 1200x600 with 1 Axes>"
      ]
     },
     "metadata": {},
     "output_type": "display_data"
    }
   ],
   "source": [
    "from collections import Counter\n",
    "import matplotlib.pyplot as plt\n",
    "import pandas as pd\n",
    "\n",
    "# Define emotionally charged keywords commonly found in suicidal ideation\n",
    "emotional_keywords = {\n",
    "    'alone', 'tired', 'lost', 'worthless', 'help', 'please', 'die',\n",
    "    'kill', 'empty', 'numb', 'ending', 'gone', 'love', 'need',\n",
    "    'fuck', 'fucking', 'someone'\n",
    "}\n",
    "\n",
    "# Function to count how many emotional keywords appear in a group of posts\n",
    "def count_emotional_keywords(posts):\n",
    "    all_text = ' '.join(posts['clean_text'])  # merge all posts\n",
    "    tokens = all_text.split()\n",
    "    counts = Counter([word for word in tokens if word in emotional_keywords])\n",
    "    return counts\n",
    "\n",
    "# Separate suicidal and non-suicidal posts\n",
    "suicide_posts = df[df['label'] == 1]     # Suicidal\n",
    "nonsuicide_posts = df[df['label'] == 0]  # Non-suicidal\n",
    "\n",
    "# Count emotional keyword occurrences in both groups\n",
    "suicide_counts = count_emotional_keywords(suicide_posts)\n",
    "nonsuicide_counts = count_emotional_keywords(nonsuicide_posts)\n",
    "\n",
    "# Combine into a DataFrame for comparison\n",
    "emotion_df = pd.DataFrame([suicide_counts, nonsuicide_counts], index=['suicide', 'non-suicide']).T.fillna(0)\n",
    "\n",
    "# Plot comparison\n",
    "emotion_df[['suicide', 'non-suicide']].plot(kind='bar', figsize=(12, 6), colormap='coolwarm')\n",
    "plt.title(\"Emotional Keyword Frequency by Class\")\n",
    "plt.xlabel(\"Keyword\")\n",
    "plt.ylabel(\"Count\")\n",
    "plt.xticks(rotation=45)\n",
    "plt.tight_layout()\n",
    "plt.show()\n",
    "\n"
   ]
  },
  {
   "cell_type": "markdown",
   "metadata": {},
   "source": [
    "**Keywords more frequent in suicidal posts**  \n",
    "- “die,” “kill,” “ending” show tall blue bars vs. short red ones—strong signals of intent.  \n",
    "- “alone,” “empty,” “numb” have notably higher blue counts, reflecting isolation and despair.  \n",
    "\n",
    "**Keywords more common in non-suicidal posts**  \n",
    "- “someone,” “love,” “need” might have higher red bars, indicating more general emotional or relational talk.  \n",
    "- Intensifiers (“fuck,” “fucking”) often more frequent in non-suicidal posts when used as expletives rather than self-harm.  \n",
    "\n",
    "**Balanced or neutral keywords**  \n",
    "- “help” or “please” bars are similar in height, suggesting both classes sometimes ask for aid, but context matters (why vs. how).  \n"
   ]
  },
  {
   "cell_type": "markdown",
   "metadata": {},
   "source": [
    "## <u>EDA/Feature Engineering</u>\n"
   ]
  },
  {
   "cell_type": "markdown",
   "metadata": {},
   "source": [
    "- ### Sentiment & Linguistic Features"
   ]
  },
  {
   "cell_type": "code",
   "execution_count": 23,
   "metadata": {},
   "outputs": [
    {
     "name": "stderr",
     "output_type": "stream",
     "text": [
      "[nltk_data] Downloading package vader_lexicon to\n",
      "[nltk_data]     C:\\Users\\hp\\AppData\\Roaming\\nltk_data...\n",
      "[nltk_data]   Package vader_lexicon is already up-to-date!\n"
     ]
    }
   ],
   "source": [
    "df['text'] = df['clean_text'].astype(str).str.slice(0, 500)\n",
    "\n",
    "# Add character and word counts\n",
    "df['char_count'] = df['text'].str.len()\n",
    "df['word_count'] = df['text'].str.split().str.len()\n",
    "\n",
    "# Add sentiment scores\n",
    "from nltk.sentiment.vader import SentimentIntensityAnalyzer\n",
    "import nltk\n",
    "nltk.download('vader_lexicon')\n",
    "sid = SentimentIntensityAnalyzer()\n",
    "\n",
    "df['sentiment'] = df['text'].apply(lambda x: sid.polarity_scores(x)['compound'])"
   ]
  },
  {
   "cell_type": "code",
   "execution_count": 24,
   "metadata": {},
   "outputs": [],
   "source": [
    "from sklearn.model_selection import train_test_split\n",
    "\n",
    "# Features and labels\n",
    "X = df['clean_text']  # use cleaned and lemmatized text\n",
    "y = df['label']\n",
    "\n",
    "# Split into training and testing sets\n",
    "X_train, X_test, y_train, y_test = train_test_split(X, y, test_size=0.3, random_state=42, stratify=y)\n"
   ]
  },
  {
   "cell_type": "code",
   "execution_count": 25,
   "metadata": {},
   "outputs": [],
   "source": [
    "#TF - IDF Vectorization\n",
    "tfidf = TfidfVectorizer(max_features=1000, stop_words='english')\n",
    "X_train_vec = tfidf.fit_transform(X_train)\n",
    "X_test_vec = tfidf.transform(X_test)\n",
    "\n",
    "# Dimensionality Reduction\n",
    "svd = TruncatedSVD(n_components=100, random_state=42)\n",
    "X_train_vec_reduced = svd.fit_transform(X_train_vec)\n",
    "X_test_vec_reduced = svd.transform(X_test_vec)\n",
    "\n",
    "# Meta Features\n",
    "meta_cols = ['char_count', 'word_count', 'sentiment']\n",
    "meta_train = df.loc[X_train.index, meta_cols].reset_index(drop=True).to_numpy()\n",
    "meta_test = df.loc[X_test.index, meta_cols].reset_index(drop=True).to_numpy()\n",
    "\n",
    "# Combine Text + Meta Features\n",
    "X_train_combined = np.hstack([X_train_vec_reduced, meta_train])\n",
    "X_test_combined = np.hstack([X_test_vec_reduced, meta_test])\n"
   ]
  },
  {
   "cell_type": "code",
   "execution_count": 26,
   "metadata": {},
   "outputs": [
    {
     "data": {
      "image/png": "[encoded data removed]",
      "text/plain": [
       "<Figure size 640x480 with 1 Axes>"
      ]
     },
     "metadata": {},
     "output_type": "display_data"
    }
   ],
   "source": [
    "plt.hist(df['sentiment'], bins=40, color='steelblue')\n",
    "plt.title(\"Sentiment Score Distribution (VADER)\")\n",
    "plt.xlabel(\"Compound Sentiment Score\")\n",
    "plt.ylabel(\"Frequency\")\n",
    "plt.grid(True)\n",
    "plt.show()"
   ]
  },
  {
   "cell_type": "markdown",
   "metadata": {},
   "source": [
    "- A large peak at negative values (around -1.0) shows many strongly negative posts—likely enriched for suicidal content.\n",
    "\n",
    "- A central peak near 0.0 indicates a substantial share of neutral or mixed-sentiment content.\n",
    "\n",
    "- A smaller positive peak suggests fewer overtly positive posts."
   ]
  },
  {
   "cell_type": "code",
   "execution_count": 27,
   "metadata": {},
   "outputs": [
    {
     "name": "stderr",
     "output_type": "stream",
     "text": [
      "C:\\Users\\hp\\AppData\\Local\\Temp\\ipykernel_8136\\2277868863.py:1: FutureWarning: \n",
      "\n",
      "Passing `palette` without assigning `hue` is deprecated and will be removed in v0.14.0. Assign the `x` variable to `hue` and set `legend=False` for the same effect.\n",
      "\n",
      "  sns.boxplot(x='class', y='sentiment', data=df, palette='Blues')\n"
     ]
    },
    {
     "data": {
      "image/png": "[encoded data removed]",
      "text/plain": [
       "<Figure size 640x480 with 1 Axes>"
      ]
     },
     "metadata": {},
     "output_type": "display_data"
    }
   ],
   "source": [
    "sns.boxplot(x='class', y='sentiment', data=df, palette='Blues')\n",
    "plt.title(\"Sentiment Score by Class\")\n",
    "plt.xlabel(\"Class\")\n",
    "plt.ylabel(\"VADER Sentiment Score\")\n",
    "plt.show()\n"
   ]
  },
  {
   "cell_type": "markdown",
   "metadata": {},
   "source": [
    "Suicidal posts carry a consistently more negative tone, with median sentiment around –0.5, compared to medians near 0.0 for non-suicidal content.\n",
    "\n",
    "Suicide cases will have a lower VADER(Valence Aware Dictionary and sEntiment) score tending to move towards -1 which shows there is a probability the text is negative\n"
   ]
  },
  {
   "cell_type": "code",
   "execution_count": 28,
   "metadata": {},
   "outputs": [
    {
     "name": "stderr",
     "output_type": "stream",
     "text": [
      "C:\\Users\\hp\\AppData\\Local\\Temp\\ipykernel_8136\\2497915179.py:2: FutureWarning: \n",
      "\n",
      "Passing `palette` without assigning `hue` is deprecated and will be removed in v0.14.0. Assign the `x` variable to `hue` and set `legend=False` for the same effect.\n",
      "\n",
      "  sns.boxplot(x='class', y='char_count', data=df, palette='Blues')\n"
     ]
    },
    {
     "data": {
      "image/png": "[encoded data removed]",
      "text/plain": [
       "<Figure size 1000x600 with 1 Axes>"
      ]
     },
     "metadata": {},
     "output_type": "display_data"
    }
   ],
   "source": [
    "plt.figure(figsize=(10, 6))\n",
    "sns.boxplot(x='class', y='char_count', data=df, palette='Blues')\n",
    "plt.title(\"Character Count by Class\")\n",
    "plt.xlabel(\"Class\")\n",
    "plt.ylabel(\"Character Count\")\n",
    "plt.grid(True, axis='y', linestyle='--', alpha=0.6)\n",
    "plt.show()\n",
    "\n"
   ]
  },
  {
   "cell_type": "markdown",
   "metadata": {},
   "source": [
    "Suicidal posts are consistently longer than non-suicidal ones and show much wider variation in length. Most messages expressing suicidal thoughts exceed the length of typical posts. In contrast, non-suicidal messages remain relatively short and uniform."
   ]
  },
  {
   "cell_type": "markdown",
   "metadata": {},
   "source": [
    "### <u>MODELLING</u>\n"
   ]
  },
  {
   "cell_type": "markdown",
   "metadata": {},
   "source": [
    "### **Objective 2:**\n",
    "Apply interpretable models to understand which words/phrases contribute to depression predictions\n"
   ]
  },
  {
   "cell_type": "markdown",
   "metadata": {},
   "source": [
    "We'll build predictive models using a pipeline approach. This ensures text preprocessing (TF-IDF) and modeling are performed seamlessly. We will use:\n",
    "- Logistic Regression (for interpretability)\n",
    "- Support Vector Machine (for performance)\n",
    "\n",
    "Evaluation metrics include Accuracy, F1-Score, Confusion Matrix, and ROC AUC."
   ]
  },
  {
   "cell_type": "markdown",
   "metadata": {},
   "source": [
    "- ### Logistic Regression"
   ]
  },
  {
   "cell_type": "markdown",
   "metadata": {},
   "source": [
    "Suicide cases will have a lower VADER(Valence Aware Dictionary and sEntiment) score tending to move towards -1 which shows there is a probability the text is negative"
   ]
  },
  {
   "cell_type": "markdown",
   "metadata": {},
   "source": [
    "Suicide related posts will tend to have longer characters(longer post length)."
   ]
  },
  {
   "cell_type": "code",
   "execution_count": 29,
   "metadata": {},
   "outputs": [
    {
     "name": "stdout",
     "output_type": "stream",
     "text": [
      "Fitting 3 folds for each of 6 candidates, totalling 18 fits\n",
      "Best Logistic Regression Parameters: {'clf__C': 10, 'tfidf__max_features': 5000}\n",
      "Logistic Regression Classification Report:\n",
      "              precision    recall  f1-score   support\n",
      "\n",
      "           0       0.93      0.94      0.93     34804\n",
      "           1       0.94      0.92      0.93     34809\n",
      "\n",
      "    accuracy                           0.93     69613\n",
      "   macro avg       0.93      0.93      0.93     69613\n",
      "weighted avg       0.93      0.93      0.93     69613\n",
      "\n"
     ]
    },
    {
     "data": {
      "image/png": "[encoded data removed]",
      "text/plain": [
       "<Figure size 640x480 with 2 Axes>"
      ]
     },
     "metadata": {},
     "output_type": "display_data"
    }
   ],
   "source": [
    "# Logistic Regression pipeline\n",
    "logreg_pipeline = Pipeline([\n",
    "    ('tfidf', TfidfVectorizer()),\n",
    "    ('clf', LogisticRegression(max_iter=1000))\n",
    "])\n",
    "\n",
    "# Define grid\n",
    "logreg_params = {\n",
    "    'tfidf__max_features': [3000, 5000],\n",
    "    'clf__C': [0.1, 1, 10]\n",
    "}\n",
    "\n",
    "# GridSearch\n",
    "logreg_grid = GridSearchCV(logreg_pipeline, logreg_params, cv=3, scoring='f1', verbose=1, n_jobs=-1)\n",
    "logreg_grid.fit(X_train, y_train)\n",
    "\n",
    "# Best model\n",
    "best_logreg = logreg_grid.best_estimator_\n",
    "print(\"Best Logistic Regression Parameters:\", logreg_grid.best_params_)\n",
    "\n",
    "# Evaluation\n",
    "y_pred = best_logreg.predict(X_test)\n",
    "print(\"Logistic Regression Classification Report:\")\n",
    "print(classification_report(y_test, y_pred))\n",
    "ConfusionMatrixDisplay.from_estimator(best_logreg, X_test, y_test, cmap='Blues')\n",
    "plt.title(\"Best Logistic Regression Confusion Matrix\")\n",
    "plt.show()\n",
    "\n"
   ]
  },
  {
   "cell_type": "markdown",
   "metadata": {},
   "source": [
    "For suicidal content (class 1), precision = 0.94 and recall = 0.92, yielding an F1 of 0.93.\n",
    "\n",
    "The confusion matrix shows roughly 32 187 true positives versus 2 622 false negatives, meaning only about 8 % of at-risk posts slip through."
   ]
  },
  {
   "cell_type": "markdown",
   "metadata": {},
   "source": [
    "The classifier distinguishes suicidal from non-suicidal posts very effectively, with over 90 % accuracy and F1 scores around 0.93. It reliably flags the vast majority of at-risk messages while keeping false alarms at a manageable level. In practice, its strong recall ensures most genuine cries for help are caught, making it a dependable first line of defense in suicide screening."
   ]
  },
  {
   "cell_type": "markdown",
   "metadata": {},
   "source": [
    "\n"
   ]
  },
  {
   "cell_type": "markdown",
   "metadata": {},
   "source": [
    "- ### SVM(Support Vector Machine)"
   ]
  },
  {
   "cell_type": "code",
   "execution_count": 30,
   "metadata": {},
   "outputs": [
    {
     "name": "stdout",
     "output_type": "stream",
     "text": [
      "Fitting 3 folds for each of 6 candidates, totalling 18 fits\n",
      "Best SVM Parameters: {'clf__C': 0.1, 'tfidf__max_features': 5000}\n"
     ]
    }
   ],
   "source": [
    "from sklearn.pipeline import Pipeline\n",
    "from sklearn.svm import LinearSVC\n",
    "from sklearn.feature_extraction.text import TfidfVectorizer\n",
    "from sklearn.model_selection import GridSearchCV\n",
    "\n",
    "# Define SVM pipeline\n",
    "svm_pipeline = Pipeline([\n",
    "    ('tfidf', TfidfVectorizer()),\n",
    "    ('clf', LinearSVC())\n",
    "])\n",
    "\n",
    "# Define hyperparameter grid\n",
    "svm_params = {\n",
    "    'tfidf__max_features': [3000, 5000],\n",
    "    'clf__C': [0.1, 1, 10]\n",
    "}\n",
    "\n",
    "# Run GridSearchCV\n",
    "svm_grid = GridSearchCV(svm_pipeline, svm_params, cv=3, scoring='f1', verbose=1, n_jobs=-1)\n",
    "svm_grid.fit(X_train, y_train)\n",
    "\n",
    "# Get the best model\n",
    "best_svm = svm_grid.best_estimator_\n",
    "\n",
    "print(\"Best SVM Parameters:\", svm_grid.best_params_)\n",
    "\n"
   ]
  },
  {
   "cell_type": "code",
   "execution_count": 31,
   "metadata": {},
   "outputs": [
    {
     "name": "stdout",
     "output_type": "stream",
     "text": [
      "SVM Classification Report:\n",
      "              precision    recall  f1-score   support\n",
      "\n",
      "           0       0.92      0.95      0.93     34804\n",
      "           1       0.94      0.92      0.93     34809\n",
      "\n",
      "    accuracy                           0.93     69613\n",
      "   macro avg       0.93      0.93      0.93     69613\n",
      "weighted avg       0.93      0.93      0.93     69613\n",
      "\n"
     ]
    },
    {
     "data": {
      "image/png": "[encoded data removed]",
      "text/plain": [
       "<Figure size 640x480 with 2 Axes>"
      ]
     },
     "metadata": {},
     "output_type": "display_data"
    }
   ],
   "source": [
    "# Evaluation\n",
    "y_pred_svm = best_svm.predict(X_test)\n",
    "print(\"SVM Classification Report:\")\n",
    "print(classification_report(y_test, y_pred_svm))\n",
    "ConfusionMatrixDisplay.from_estimator(best_svm, X_test, y_test, cmap='Blues')\n",
    "plt.title(\"Best SVM Confusion Matrix\")\n",
    "plt.show()"
   ]
  },
  {
   "cell_type": "markdown",
   "metadata": {},
   "source": [
    "This SVM reliably distinguishes suicidal from non-suicidal posts with over 90 % accuracy. Its high precision for suicidal posts ensures most flagged items are genuine, while its recall of 0.92 means only about 8 % of at-risk messages are missed—an acceptable balance for initial screening that could be tuned further if minimizing misses is paramount."
   ]
  },
  {
   "cell_type": "markdown",
   "metadata": {},
   "source": [
    "- ### Random Forest\n"
   ]
  },
  {
   "cell_type": "code",
   "execution_count": null,
   "metadata": {},
   "outputs": [
    {
     "name": "stdout",
     "output_type": "stream",
     "text": [
      "Fitting 3 folds for each of 12 candidates, totalling 36 fits\n"
     ]
    }
   ],
   "source": [
    "from sklearn.ensemble         import RandomForestClassifier\n",
    "from sklearn.pipeline         import Pipeline\n",
    "from sklearn.model_selection  import GridSearchCV\n",
    "from sklearn.metrics          import classification_report, ConfusionMatrixDisplay\n",
    "import matplotlib.pyplot       as plt\n",
    "from sklearn.feature_extraction.text import TfidfVectorizer\n",
    "\n",
    "\n",
    "# 1) Build the pipeline\n",
    "rf_pipeline = Pipeline([\n",
    "    ('tfidf', TfidfVectorizer()),\n",
    "    ('clf',   RandomForestClassifier(random_state=42))\n",
    "])\n",
    "\n",
    "# 2) Define hyperparameter grid\n",
    "rf_params = {\n",
    "    'tfidf__max_features': [3000, 5000],\n",
    "    'clf__n_estimators':   [100, 200],\n",
    "    'clf__max_depth':      [None, 10, 20]\n",
    "}\n",
    "\n",
    "# 3) GridSearchCV\n",
    "rf_grid = GridSearchCV(\n",
    "    rf_pipeline,\n",
    "    rf_params,\n",
    "    cv=3,\n",
    "    scoring='f1',\n",
    "    verbose=1,\n",
    "    n_jobs=1\n",
    ")\n",
    "rf_grid.fit(X_train, y_train)\n",
    "\n",
    "# 4) Best estimator\n",
    "best_rf = rf_grid.best_estimator_\n",
    "print(\"Best Random Forest Parameters:\", rf_grid.best_params_)\n",
    "\n",
    "# 5) Evaluation\n",
    "y_pred_rf = best_rf.predict(X_test)\n",
    "print(\"\\nRandom Forest Classification Report:\")\n",
    "print(classification_report(y_test, y_pred_rf))\n",
    "\n",
    "# 6) Confusion matrix\n",
    "ConfusionMatrixDisplay.from_estimator(\n",
    "    best_rf, X_test, y_test, cmap='Blues'\n",
    ")\n",
    "plt.title(\"Random Forest Confusion Matrix\")\n",
    "plt.show()\n"
   ]
  },
  {
   "cell_type": "markdown",
   "metadata": {},
   "source": [
    "## <u>Evaluation</u>\n"
   ]
  },
  {
   "cell_type": "code",
   "execution_count": null,
   "metadata": {},
   "outputs": [],
   "source": []
  },
  {
   "cell_type": "code",
   "execution_count": null,
   "metadata": {},
   "outputs": [],
   "source": [
    "from sklearn.metrics import accuracy_score, precision_score, recall_score, f1_score, roc_auc_score\n",
    "import pandas as pd\n",
    "\n",
    "# Collect metrics for Logistic Regression\n",
    "y_pred_logreg = best_logreg.predict(X_test)\n",
    "logreg_proba = best_logreg.predict_proba(X_test)[:, 1]\n",
    "\n",
    "logreg_metrics = {\n",
    "    'Model': 'Logistic Regression',\n",
    "    'Accuracy': accuracy_score(y_test, y_pred_logreg),\n",
    "    'Precision': precision_score(y_test, y_pred_logreg),\n",
    "    'Recall': recall_score(y_test, y_pred_logreg),\n",
    "    'F1 Score': f1_score(y_test, y_pred_logreg),\n",
    "    'AUC': roc_auc_score(y_test, logreg_proba)\n",
    "}\n",
    "\n",
    "# Collect metrics for SVM\n",
    "y_pred_svm = best_svm.predict(X_test)\n",
    "svm_metrics = {\n",
    "    'Model': 'SVM (Linear)',\n",
    "    'Accuracy': accuracy_score(y_test, y_pred_svm),\n",
    "    'Precision': precision_score(y_test, y_pred_svm),\n",
    "    'Recall': recall_score(y_test, y_pred_svm),\n",
    "    'F1 Score': f1_score(y_test, y_pred_svm),\n",
    "    'AUC': 'N/A'  # SVM doesn't provide probabilities by default\n",
    "}\n",
    "\n",
    "# Combine into a DataFrame\n",
    "results_df = pd.DataFrame([logreg_metrics, svm_metrics])\n",
    "results_df.set_index('Model', inplace=True)\n",
    "results_df\n"
   ]
  },
  {
   "cell_type": "markdown",
   "metadata": {},
   "source": [
    "- ### Neural Network Model (Keras)\n",
    "\n",
    "We implement a deep learning model using Keras. This model will use embeddings and dense layers to classify suicidal ideation from Reddit posts.\n"
   ]
  },
  {
   "cell_type": "code",
   "execution_count": null,
   "metadata": {},
   "outputs": [],
   "source": [
    "from keras.preprocessing.text import Tokenizer\n",
    "from keras.preprocessing.sequence import pad_sequences\n",
    "\n",
    "\n",
    "# Tokenize the text\n",
    "tokenizer = Tokenizer(num_words=10000, oov_token=\"<OOV>\")\n",
    "tokenizer.fit_on_texts(df['clean_text'])\n",
    "\n",
    "# Convert text to sequences\n",
    "sequences = tokenizer.texts_to_sequences(df['clean_text'])\n",
    "\n",
    "# Pad sequences to uniform length\n",
    "X_nn = pad_sequences(sequences, maxlen=200)\n",
    "y_nn = df['label'].values\n",
    "\n",
    "# Train-test split\n",
    "X_train_nn, X_test_nn, y_train_nn, y_test_nn = train_test_split(X_nn, y_nn, test_size=0.2, random_state=42, stratify=y_nn)\n"
   ]
  },
  {
   "cell_type": "code",
   "execution_count": null,
   "metadata": {},
   "outputs": [],
   "source": [
    "from keras.models import Sequential\n",
    "from keras.layers import Embedding, GlobalAveragePooling1D, Dense, Dropout\n",
    "\n",
    "# Build the model\n",
    "model = Sequential([\n",
    "    Embedding(input_dim=10000, output_dim=64, input_length=200),\n",
    "    GlobalAveragePooling1D(),\n",
    "    Dense(64, activation='relu'),\n",
    "    Dropout(0.5),\n",
    "    Dense(1, activation='sigmoid')  # Binary classification\n",
    "])\n",
    "\n",
    "# Compile the model\n",
    "model.compile(optimizer='adam', loss='binary_crossentropy', metrics=['accuracy'])\n",
    "\n",
    "# Train the model\n",
    "history = model.fit(X_train_nn, y_train_nn, validation_split=0.2, epochs=5, batch_size=64)\n"
   ]
  },
  {
   "cell_type": "code",
   "execution_count": null,
   "metadata": {},
   "outputs": [],
   "source": [
    "\n",
    "\n",
    "# Plot training history\n",
    "plt.figure(figsize=(12, 5))\n",
    "\n",
    "# Accuracy\n",
    "plt.subplot(1, 2, 1)\n",
    "plt.plot(history.history['accuracy'], label=\"Train Acc\")\n",
    "plt.plot(history.history['val_accuracy'], label=\"Val Acc\")\n",
    "plt.title(\"Training and Validation Accuracy\")\n",
    "plt.xlabel(\"Epoch\")\n",
    "plt.ylabel(\"Accuracy\")\n",
    "plt.legend()\n",
    "\n",
    "# Loss\n",
    "plt.subplot(1, 2, 2)\n",
    "plt.plot(history.history['loss'], label=\"Train Loss\")\n",
    "plt.plot(history.history['val_loss'], label=\"Val Loss\")\n",
    "plt.title(\"Training and Validation Loss\")\n",
    "plt.xlabel(\"Epoch\")\n",
    "plt.ylabel(\"Loss\")\n",
    "plt.legend()\n",
    "\n",
    "plt.tight_layout()\n",
    "plt.show()\n"
   ]
  },
  {
   "cell_type": "code",
   "execution_count": null,
   "metadata": {},
   "outputs": [],
   "source": [
    "\n",
    "\n",
    "# Predict and evaluate\n",
    "y_pred_nn = (model.predict(X_test_nn) > 0.5).astype(\"int32\")\n",
    "print(classification_report(y_test_nn, y_pred_nn))\n",
    "\n",
    "# Confusion matrix\n",
    "ConfusionMatrixDisplay.from_predictions(y_test_nn, y_pred_nn, cmap='Blues')\n",
    "plt.title(\"Neural Network Confusion Matrix\")\n",
    "plt.show()\n"
   ]
  },
  {
   "cell_type": "markdown",
   "metadata": {},
   "source": [
    "### <u>Evaluation</u>\n"
   ]
  },
  {
   "cell_type": "markdown",
   "metadata": {},
   "source": [
    "### **Objective 3:** \n",
    "Evaluate model performance using precision, recall, F1-score, and ROC-AUC, with stratified validation to handle potential class imbalance\n"
   ]
  },
  {
   "cell_type": "markdown",
   "metadata": {},
   "source": [
    "- ### summary for the 3 model"
   ]
  },
  {
   "cell_type": "code",
   "execution_count": null,
   "metadata": {},
   "outputs": [],
   "source": [
    "\n",
    "# Flatten prediction array\n",
    "y_pred_nn_flat = y_pred_nn.flatten()\n",
    "\n",
    "# Compute metrics for Neural Network\n",
    "nn_metrics = {\n",
    "    'Model': 'Neural Network',\n",
    "    'Accuracy': accuracy_score(y_test_nn, y_pred_nn_flat),\n",
    "    'Precision': precision_score(y_test_nn, y_pred_nn_flat),\n",
    "    'Recall': recall_score(y_test_nn, y_pred_nn_flat),\n",
    "    'F1 Score': f1_score(y_test_nn, y_pred_nn_flat),\n",
    "    'AUC': roc_auc_score(y_test_nn, y_pred_nn_flat)}\n",
    "\n",
    "\n",
    "\n",
    "results_df = pd.DataFrame([logreg_metrics, svm_metrics, nn_metrics])\n",
    "results_df.set_index('Model', inplace=True)\n",
    "results_df"
   ]
  },
  {
   "cell_type": "markdown",
   "metadata": {},
   "source": [
    "### TUNING NEURAL NETWORKS WITH LTSM"
   ]
  },
  {
   "cell_type": "markdown",
   "metadata": {},
   "source": [
    "We use LTSM because\n",
    "1. Sequential understanding\tLSTMs learn word order and context across a sentence (important for meaning).\n",
    "2. Long-range dependency - LSTMs are good at remembering things like: “I don’t want to live” even if the words are far apart.\n",
    "3. Emotion-rich text- Suicidal posts often use phrases where sequence matters more than word presence (e.g., “I’m tired of living” ≠ “Living makes me tired”)."
   ]
  },
  {
   "cell_type": "code",
   "execution_count": null,
   "metadata": {},
   "outputs": [],
   "source": [
    "# Defining a build function for LTSM\n",
    "\n",
    "def build_model(optimizer='adam'):\n",
    "    model = Sequential([\n",
    "        Embedding(input_dim=10000, output_dim=64, input_length=200),\n",
    "        GlobalAveragePooling1D(),\n",
    "        Dense(64, activation='relu'),\n",
    "        Dense(1, activation='sigmoid')\n",
    "    ])\n",
    "    model.compile(optimizer=optimizer, loss='binary_crossentropy', metrics=['accuracy'])\n",
    "    return model\n"
   ]
  },
  {
   "cell_type": "code",
   "execution_count": null,
   "metadata": {},
   "outputs": [],
   "source": [
    "\n",
    "from tensorflow.keras.models import Sequential\n",
    "from tensorflow.keras.layers import Embedding, GlobalAveragePooling1D, Dense\n",
    "from scikeras.wrappers import KerasClassifier\n",
    "\n",
    "#wrap it in kerasclassifier\n",
    "clf = KerasClassifier(\n",
    "    model=build_model,\n",
    "    optimizer='adam', \n",
    "    epochs=3,\n",
    "    batch_size=32,\n",
    "    verbose=0)\n",
    "\n",
    "#set up hyperparameter grid\n",
    "param_grid = {\n",
    "    'optimizer': ['adam', 'rmsprop'],\n",
    "    'epochs': [3],  \n",
    "    'batch_size': [32, 64]}\n",
    "\n",
    "#perform GridSearchCV\n",
    "grid = GridSearchCV(estimator=clf, param_grid=param_grid, cv=2, scoring='accuracy', verbose=2, n_jobs=-1)\n",
    "grid_result = grid.fit(X_train_nn, y_train_nn)\n",
    "\n",
    "#Evaluate the best model\n",
    "best_keras = grid_result.best_estimator_\n",
    "print(\"Best Params:\", grid_result.best_params_)\n",
    "\n",
    "# Predictions\n",
    "y_pred_keras = (best_keras.predict(X_test_nn) > 0.5).astype(\"int32\")\n",
    "\n",
    "# Report & Confusion Matrix\n",
    "print(\"Keras Classifier Classification Report:\")\n",
    "print(classification_report(y_test_nn, y_pred_keras))\n",
    "\n",
    "ConfusionMatrixDisplay.from_predictions(y_test_nn, y_pred_keras, cmap='Oranges')\n",
    "plt.title(\"KerasClassifier Confusion Matrix\")\n",
    "plt.show()\n",
    "\n"
   ]
  },
  {
   "cell_type": "code",
   "execution_count": null,
   "metadata": {},
   "outputs": [],
   "source": [
    "#add LTSM to the comparison table\n",
    "from sklearn.metrics import accuracy_score, precision_score, recall_score, f1_score, roc_auc_score\n",
    "\n",
    "lstm_metrics = {\n",
    "    'Model': 'LSTM (Keras)',\n",
    "    'Accuracy': accuracy_score(y_test_nn, y_pred_keras),\n",
    "    'Precision': precision_score(y_test_nn, y_pred_keras),\n",
    "    'Recall': recall_score(y_test_nn, y_pred_keras),\n",
    "    'F1 Score': f1_score(y_test_nn, y_pred_keras),\n",
    "    'AUC': roc_auc_score(y_test_nn, y_pred_keras)\n",
    "}\n",
    "\n",
    "results_df = pd.DataFrame([logreg_metrics, svm_metrics, nn_metrics, lstm_metrics])\n",
    "results_df.set_index('Model', inplace=True)\n",
    "results_df"
   ]
  },
  {
   "cell_type": "markdown",
   "metadata": {},
   "source": [
    "### **Objective 4:**\n",
    "Provide recommendations for how health organizations can use the model for early warning system\n"
   ]
  },
  {
   "cell_type": "markdown",
   "metadata": {},
   "source": [
    "## <u>Rationale </u>\n",
    "\n",
    "## <u>Limitations</u>\n",
    "\n",
    "## <u>Conclusion</u>\n",
    "\n",
    "## <u>Recommendation</u>\n"
   ]
  },
  {
   "cell_type": "code",
   "execution_count": null,
   "metadata": {},
   "outputs": [],
   "source": []
  }
 ],
 "metadata": {
  "kernelspec": {
   "display_name": "Python 3 (ipykernel)",
   "language": "python",
   "name": "python3"
  },
  "language_info": {
   "codemirror_mode": {
    "name": "ipython",
    "version": 3
   },
   "file_extension": ".py",
   "mimetype": "text/x-python",
   "name": "python",
   "nbconvert_exporter": "python",
   "pygments_lexer": "ipython3",
   "version": "3.12.7"
  }
 },
 "nbformat": 4,
 "nbformat_minor": 4
}
